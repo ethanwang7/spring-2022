{
 "cells": [
  {
   "cell_type": "markdown",
   "metadata": {},
   "source": [
    "<div class=\"alert alert-block alert-info\">\n",
    "<h3>Student Information</h3> Please provide information about yourself. We will NOT grade this submissing w/o all the information<br>\n",
    "<b>Name</b>: Ethan Wang<br>\n",
    "<b>NetID</b>: ew337<br>\n",
    "<b>Recitation (01,02,03)</b>: 3<br>\n",
    "<b>Notes to Grader</b> (optional): For 3.11a and 3.11b, I'm fairly certain that the expected output for 3.11a and 3.11b is wrong. Most of the values are above 1, so they can't be probabilities. <br>\n",
    "<br><br>\n",
    "<b>IMPORTANT</b>\n",
    "Your work will not be graded withour your initials below<br>\n",
    "I certify that this lab represents my own work and I have read the RU academic intergrity policies at<br>\n",
    "<a href=\"https://www.cs.rutgers.edu/academic-integrity/introduction\">https://www.cs.rutgers.edu/academic-integrity/introduction </a><br>\n",
    "<b>Initials</b>: EW      \n",
    "\n",
    "\n",
    "<h3>Grader Notes</h3>\n",
    "<b>Your Grade<b>:<br>\n",
    "<b>Grader Initials</b>:<br>\n",
    "<b>Grader Comments</b> (optional):<br>\n",
    "</div>"
   ]
  },
  {
   "cell_type": "markdown",
   "metadata": {
    "nbgrader": {
     "grade": false,
     "grade_id": "intro",
     "locked": true,
     "schema_version": 2,
     "solution": false
    }
   },
   "source": [
    "## CS 439 - Introduction to Data Science\n",
    "### Spring 2022\n",
    "\n",
    "# Lab 3: Exploratary Data Analysis\n",
    "\n",
    "### Due Date: Thursday March 03, 2022 by 11:59 PM ###\n",
    "\n",
    "### Instructions\n",
    "This lab is presented as a notebook. Please execute the cells that are already completed and your task is to fill in the code\n",
    "between ### BEGIN SOLUTION ### and ### END SOLUTION ###. \n",
    "\n",
    "#### Important: Please do not add any new cells or change the order of cells. If you have questions, please contact the courseS staff.\n",
    "\n",
    "In this lab, you will be working with a dataset from NYPD containing data on calls to the New York Police Department. Information about the datasets can be found at https://opendata.cityofnewyork.us/"
   ]
  },
  {
   "cell_type": "markdown",
   "metadata": {
    "nbgrader": {
     "grade": false,
     "grade_id": "setup",
     "locked": true,
     "schema_version": 2,
     "solution": false
    }
   },
   "source": [
    "## Setup\n",
    "\n",
    "Note that after activating matplotlib to display figures inline via the IPython magic `%matplotlib inline`, we configure a custom default figure size. Virtually every default aspect of matplotlib [can be customized](https://matplotlib.org/users/customizing.html)."
   ]
  },
  {
   "cell_type": "code",
   "execution_count": null,
   "metadata": {
    "nbgrader": {
     "grade": false,
     "grade_id": "imports",
     "locked": true,
     "schema_version": 2,
     "solution": false
    }
   },
   "outputs": [],
   "source": [
    "import pandas as pd\n",
    "import numpy as np\n",
    "import zipfile\n",
    "import matplotlib.pyplot as plt\n",
    "import seaborn as sns\n",
    "\n",
    "%matplotlib inline\n",
    "plt.rcParams['figure.figsize'] = (12, 9)"
   ]
  },
  {
   "cell_type": "markdown",
   "metadata": {
    "nbgrader": {
     "grade": false,
     "grade_id": "part1",
     "locked": true,
     "schema_version": 2,
     "solution": false
    }
   },
   "source": [
    "# Part 1:Getting Data\n",
    "\n",
    "We will work with the NYPD Historic complaint data set. Our first task is to estimate the size of this download by looking at the number of rows, columns and using an estimated size for a column (use a reasonable value). The site metadata is available from the page\n",
    "https://data.cityofnewyork.us/Public-Safety/NYPD-Complaint-Data-Historic/qgea-i56i"
   ]
  },
  {
   "cell_type": "code",
   "execution_count": null,
   "metadata": {},
   "outputs": [],
   "source": [
    "### BEGIN SOLUTION\n",
    "estimated size of the download (based on metadata information from the site) = 2066400000 #size in bytes \n",
    "\n",
    "# please explain how you reached the answer\n",
    "\n",
    "    # 7380000 * 35 * 8 = 2066400000 bytes\n",
    "    # We assume that each entry in the dataset is an object or int64/float64 variable of 8 bytes\n",
    "    \n",
    "### END SOLUTION"
   ]
  },
  {
   "cell_type": "markdown",
   "metadata": {},
   "source": [
    "### 1.1 Download the data\n",
    "This file is large (use the estimate you did above). If it takes too long to download, you may want to interrupt and download the file using a browser and URL https://data.cityofnewyork.us/Public-Safety/NYPD-Complaint-Data-Historic/qgea-i56i"
   ]
  },
  {
   "cell_type": "code",
   "execution_count": null,
   "metadata": {
    "nbgrader": {
     "grade": false,
     "grade_id": "download-data",
     "locked": true,
     "schema_version": 2,
     "solution": false
    }
   },
   "outputs": [],
   "source": [
    "import utils\n",
    "data_dir = 'data'\n",
    "data_url = 'https://data.cityofnewyork.us/Public-Safety/NYPD-Complaint-Data-Historic/qgea-i56i'\n",
    "\n",
    "file_name = 'NYPD_Complaint_Data_Historic.csv'\n",
    "\n",
    "# To retrieve the dataset, we will use the `utils.fetch_and_cache` utility from utils library. \n",
    "dest_path = utils.fetch_and_cache(data_url=data_url, file=file_name,data_dir=data_dir)\n",
    "print(f'Located at {dest_path}')"
   ]
  },
  {
   "cell_type": "markdown",
   "metadata": {},
   "source": [
    "### 1.2 Inspect the size of the file\n",
    "It is helpful to get an idea of the size of the file. This can be done using functions in the utils library."
   ]
  },
  {
   "cell_type": "code",
   "execution_count": null,
   "metadata": {
    "nbgrader": {
     "grade": false,
     "grade_id": "q0",
     "locked": true,
     "schema_version": 2,
     "solution": false
    }
   },
   "outputs": [],
   "source": [
    "# look at the size of the file w/o opening it using OS (https://docs.python.org/3/library/os.html). You can perform\n",
    "# variety of operating system related functions from this package.\n",
    "### BEGIN SOLUTION\n",
    "import os\n",
    "\n",
    "size = os.path.getsize('data/NYPD_Complaint_Data_Historic.csv')\n",
    "size\n",
    "#### END SOLUTION"
   ]
  },
  {
   "cell_type": "markdown",
   "metadata": {},
   "source": [
    "### 1.3 Split the large file\n",
    "This data file NYPD_Complaint_Data_Historic.csv is too big to load into a single DataFrame. Let us split the large file into smaller files.  Let us find out the number of lines in the NYPD_Complaint_Data_Historic.csv file using utils."
   ]
  },
  {
   "cell_type": "code",
   "execution_count": null,
   "metadata": {},
   "outputs": [],
   "source": [
    "# Using utils library, find the number of lines in the file\n",
    "\n",
    "### BEGIN SOLUTION\n",
    "import utils\n",
    "utils.line_count('data/NYPD_Complaint_Data_Historic.csv')\n",
    "\n",
    "### END SOLUTION"
   ]
  },
  {
   "cell_type": "code",
   "execution_count": null,
   "metadata": {},
   "outputs": [],
   "source": [
    "# Split the file into 10 smaller files. Estimate the number of lines in each file using the count above\n",
    "# files should be created in the data folder and named NYPD_Complaint_Data_Historic_1.csv, \n",
    "# NYPD_Complaint_Data_Historic_2.csv, ... NYPD_Complaint_Data_Historic_10.csv etc\n",
    "# It is possible that few lines from the original file may not be saved due to rounding errors.\n",
    "\n",
    "### BEGIN SOLUTION\n",
    "import math\n",
    "\n",
    "csvfile = open('data/NYPD_Complaint_Data_Historic.csv', 'r').readlines()\n",
    "filename = 1\n",
    "for i in range(len(csvfile)):\n",
    "    if i % 737600 == 0:\n",
    "        open('data/NYPD_Complaint_Data_Historic_' + str(filename) + '.csv', 'w+').writelines(csvfile[i:i+737600])\n",
    "        filename += 1\n",
    "\n",
    "math.ceil(utils.line_count('data/NYPD_Complaint_Data_Historic.csv') / 10) #estimated number of lines in each file\n",
    "### END SOLUTION"
   ]
  },
  {
   "cell_type": "markdown",
   "metadata": {},
   "source": [
    "### 1.4 Check the files in the data folder\n",
    "Now, we'll use a method of the `Pathlib.Path` class called `glob` to list all files in the `data` directory. You will find useful information in pathlib [docs](https://docs.python.org/3/library/pathlib.html).\n",
    "\n",
    "Below, we use pathlib's `glob` method to store the list of all files' names from the `data_dir` directory in the variable `file_names`. These names should be strings that contain only the file name (e.g. `dummy.txt` not `data/dummy.txt`). The asterisk (*) character is used with the `glob` method to match any string."
   ]
  },
  {
   "cell_type": "code",
   "execution_count": null,
   "metadata": {},
   "outputs": [],
   "source": [
    "from pathlib import Path\n",
    "data_dir_path = Path('data') # creates a Path object that points to the data directory\n",
    "file_names = [x.name for x in data_dir_path.glob('*') if x.is_file()]\n",
    "file_names"
   ]
  },
  {
   "cell_type": "markdown",
   "metadata": {},
   "source": [
    "### 1.5 Pre-processing of data\n",
    "It is good to pre-process the data to see if the file can be opened in a Jupyter notebook. We need to avoid large files that can crash notebooks. Typically, files of size around 200 MB is ok to open into a DataFrame. In the following activities we will inspect the file w/o opening it as a DataFrame. Using utils.head "
   ]
  },
  {
   "cell_type": "code",
   "execution_count": null,
   "metadata": {},
   "outputs": [],
   "source": [
    "# Use the util.head() to read up to 5 lines from the original file (w/o opening it)\n",
    "from utils import head\n",
    "head('data/NYPD_Complaint_Data_Historic.csv')"
   ]
  },
  {
   "cell_type": "markdown",
   "metadata": {},
   "source": [
    "### 1.6 Inspecting and describing data columns\n",
    "There should be 35 columns in each record. Using header information and data types, describe the type of data in each\n",
    "column. If you are unable to determine, just state so.\n",
    "##### BEGIN SOLUTION\n",
    "* CMPLNT_NUM : An integer\n",
    "* CMPLNT_FR_DT: A string\n",
    "* CMPLNT_FR_TM: A string\n",
    "* CMPLNT_TO_DT: A string\n",
    "* CMPLNT_TO_TM: A string\n",
    "* ADDR_PCT_CD: An integer\n",
    "* RPT_DT: A string\n",
    "* KY_CD: A integer\n",
    "* OFNS_DESC: A string\n",
    "* PD_CD: A integer\n",
    "* PD_DESC: A string\n",
    "* CRM_ATPT_CPTD_CD: A string\n",
    "* LAW_CAT_CD: A string\n",
    "* BORO_NM: A string\n",
    "* LOC_OF_OCCUR_DESC: A string\n",
    "* PREM_TYP_DESC: A string\n",
    "* JURIS_DESC: A string\n",
    "* JURISDICTION_CODE: An integer\n",
    "* PARKS_NM: A string\n",
    "* HADEVELOPT: A string\n",
    "* HOUSING_PSA: An integer\n",
    "* X_COORD_CD: A float\n",
    "* Y_COORD_CD: A float\n",
    "* SUSP_AGE_GROUP: A string\n",
    "* SUSP_RACE: A string\n",
    "* SUSP_SEX: A string\n",
    "* TRANSIT_DISTRICT: A string\n",
    "* Latitude: A float\n",
    "* Longitude: A float\n",
    "* Lat_Lon: A string\n",
    "* PATROL_BORO: A string\n",
    "* STATION_NAME: A string\n",
    "* VIC_AGE_GROUP: A string\n",
    "* VIC_RACE: A string\n",
    "* VIC_SEX: A string\n",
    "##### END SOLUTION"
   ]
  },
  {
   "cell_type": "markdown",
   "metadata": {
    "nbgrader": {
     "grade": false,
     "grade_id": "explore-0",
     "locked": true,
     "schema_version": 2,
     "solution": false
    }
   },
   "source": [
    "# Part 2 - Exploratory Data Analysis\n",
    "Exploratory data analysis (EDA) is the process of examining a subest of a large data set to see what we can know about the data. First we will explore one file NYPD_Complaint_Data_Historic_1.csv to see what we can find out.\n",
    "\n",
    "### 2.1 Loading Data into a DataFrame\n",
    "Load the first CSV file, NYPD_Complaint_Data_Historic_1.csv into a `pandas.DataFrame` object. Also do a time analysis to see how long it took to load the data into a DataFrame. Time should be printed in seconds. The time libraries https://docs.python.org/3/library/time.html can help."
   ]
  },
  {
   "cell_type": "code",
   "execution_count": null,
   "metadata": {
    "nbgrader": {
     "grade": false,
     "grade_id": "explore-1",
     "locked": true,
     "schema_version": 2,
     "solution": false
    }
   },
   "outputs": [],
   "source": [
    "### BEGIN SOLUTION\n",
    "import pandas as pd\n",
    "import time\n",
    "\n",
    "start = time.time()\n",
    "calls = pd.read_csv(\"data/NYPD_Complaint_Data_Historic_1.csv\")\n",
    "end = time.time()\n",
    "\n",
    "print(end - start)\n",
    "### END SOLUTION"
   ]
  },
  {
   "cell_type": "markdown",
   "metadata": {
    "nbgrader": {
     "grade": false,
     "grade_id": "explore-2",
     "locked": true,
     "schema_version": 2,
     "solution": false
    }
   },
   "source": [
    "### 2.2 Description of Fields\n",
    "Let's also check some basic information about these files using the `DataFrame.describe` and `DataFrame.info` methods. Describe columns that can be removed based on the information."
   ]
  },
  {
   "cell_type": "code",
   "execution_count": null,
   "metadata": {
    "nbgrader": {
     "grade": false,
     "grade_id": "explore-3",
     "locked": true,
     "schema_version": 2,
     "solution": false
    }
   },
   "outputs": [],
   "source": [
    "### BEGIN SOLUTION\n",
    "calls.info()\n",
    "calls.describe()\n",
    "\n",
    "# What columns can be removed from the DataFrame? A reasonable rule of thumb is that if a column is missing more than \n",
    "# 50% of the data then it should be removed\n",
    "\n",
    "# Columns PARKS_NM, HADEVELOPT, HOUSING_PSA, TRANSIT_DISTRICT, and STATION_NAME should be removed since they don't\n",
    "# even have more than 100,000 non-null objects\n",
    "\n",
    "### END SOLUTION"
   ]
  },
  {
   "cell_type": "markdown",
   "metadata": {
    "nbgrader": {
     "grade": false,
     "grade_id": "explore-4",
     "locked": true,
     "schema_version": 2,
     "solution": false
    }
   },
   "source": [
    "### 2.2 Finding Uniques\n",
    "\n",
    "Notice that the functions above reveal type information for the columns, as well as some basic statistics about the numerical columns found in the DataFrame. However, we still need more information about what each column represents. Let's explore the data further.\n",
    "\n",
    "find the number of unique values in each DataFrame column and answer the questions below."
   ]
  },
  {
   "cell_type": "code",
   "execution_count": null,
   "metadata": {
    "nbgrader": {
     "grade": false,
     "grade_id": "explore-5",
     "locked": true,
     "schema_version": 2,
     "solution": false
    },
    "scrolled": true
   },
   "outputs": [],
   "source": [
    "### BEGIN SOLUTION\n",
    "calls.nunique()\n",
    "\n",
    "# Questions\n",
    "# 1. How many distinct locations where the complaints have come from?\n",
    "\n",
    "    # 5 distinct locations\n",
    "\n",
    "# 2. How many age groups are represented in the data set?\n",
    "\n",
    "    # There appear to be 25 age groups in SUSP_AGE_GROUP, and 44 age groups in VIC_AGE_GROUP. However, if we analyze\n",
    "    # those columns more, we can conclude that there are only 5 distinct age-groups that are thoroughly represented\n",
    "    # by those columns. The rest are either outliers or unknown. Therefore, there are 5 age groups being represented\n",
    "    # in the data set.\n",
    "\n",
    "# 3. How many boroughs are included in the data set?\n",
    "\n",
    "    # There are 5 distinct boroughs\n",
    "\n",
    "# 4. How many offense types are listed in this data set?\n",
    "\n",
    "    # There are 65 different offense types\n",
    "\n",
    "### END SOLUTION"
   ]
  },
  {
   "cell_type": "markdown",
   "metadata": {},
   "source": [
    "### 2.3 Offense by Boro\n",
    "Using GroupBy operation, create a DataFrame that groups offenses by Boro. call the DataFrame calls_by_Boro_and_offense"
   ]
  },
  {
   "cell_type": "code",
   "execution_count": null,
   "metadata": {
    "nbgrader": {
     "grade": false,
     "grade_id": "q1a-answer",
     "locked": false,
     "schema_version": 2,
     "solution": true
    },
    "scrolled": true
   },
   "outputs": [],
   "source": [
    "### BEGIN SOLUTION\n",
    "calls_by_Boro_and_offense = calls.groupby([\"BORO_NM\", \"OFNS_DESC\"], dropna=False).count()\n",
    "calls_by_Boro_and_offense\n",
    "### END SOLUTION"
   ]
  },
  {
   "cell_type": "markdown",
   "metadata": {
    "nbgrader": {
     "grade": false,
     "grade_id": "q1b",
     "locked": true,
     "schema_version": 2,
     "solution": false
    }
   },
   "source": [
    "### 2.4 Offenses in Bronx\n",
    "\n",
    "In the cell below, find a list of strings corresponding to the possible values for `OFNS_DESC` when `BORO` is \"BRONX\". Create an expression that automatically extracts the names of the offenses."
   ]
  },
  {
   "cell_type": "code",
   "execution_count": null,
   "metadata": {
    "nbgrader": {
     "grade": false,
     "grade_id": "q1b-answer",
     "locked": false,
     "schema_version": 2,
     "solution": true
    },
    "tags": [
     "student"
    ]
   },
   "outputs": [],
   "source": [
    "### BEGIN SOLUTION\n",
    "print(list(calls_by_Boro_and_offense.loc['BRONX'].index))\n",
    "### END SOLUTION\n",
    "\n",
    "# How many offenses were committed in Bronx during the analysis period?\n",
    "calls_by_Boro_and_offense.loc['BRONX']['CMPLNT_NUM'].sum()"
   ]
  },
  {
   "cell_type": "markdown",
   "metadata": {
    "nbgrader": {
     "grade": false,
     "grade_id": "q2",
     "locked": true,
     "schema_version": 2,
     "solution": false
    }
   },
   "source": [
    "### 2.5 Most Common Crimes in NYC\n",
    "\n",
    "What are the five crime types of OFNS_DESC that have the most crime events in Bronx? You may need to use `value_counts` to find the answer. Save your results as a list of strings.\n",
    "\n",
    "**Hint:** *The `keys` method of the Series class might be useful.*"
   ]
  },
  {
   "cell_type": "code",
   "execution_count": null,
   "metadata": {
    "nbgrader": {
     "grade": false,
     "grade_id": "q2-answer",
     "locked": false,
     "schema_version": 2,
     "solution": true
    }
   },
   "outputs": [],
   "source": [
    "### BEGIN SOLUTION\n",
    "common = calls_by_Boro_and_offense.loc['BRONX']['CMPLNT_NUM'].sort_values(ascending=False).keys()[0:5]\n",
    "print(list(common))\n",
    "### END SOLUTION"
   ]
  },
  {
   "cell_type": "markdown",
   "metadata": {},
   "source": [
    "### 2.6 Probability of a Crime in Bronx\n",
    "What is the probability that a the crime \"Arson\" can happen in Bronx?"
   ]
  },
  {
   "cell_type": "code",
   "execution_count": null,
   "metadata": {
    "nbgrader": {
     "grade": true,
     "grade_id": "q2-tests",
     "locked": true,
     "points": 1,
     "schema_version": 2,
     "solution": false
    }
   },
   "outputs": [],
   "source": [
    "### BEGIN SOLUTION\n",
    "arson = calls_by_Boro_and_offense.loc['BRONX', 'ARSON']['CMPLNT_NUM']\n",
    "total = calls_by_Boro_and_offense.loc['BRONX']['CMPLNT_NUM'].sum()\n",
    "\n",
    "prob = arson/total\n",
    "prob\n",
    "### END SOLUTION"
   ]
  },
  {
   "cell_type": "markdown",
   "metadata": {
    "nbgrader": {
     "grade": false,
     "grade_id": "part2",
     "locked": true,
     "schema_version": 2,
     "solution": false
    }
   },
   "source": [
    "---\n",
    "# Part 3: Visualizing the Data\n",
    "\n",
    "## Pandas vs. Seaborn Plotting\n",
    "\n",
    "Pandas offers basic functionality for plotting. For example, the `DataFrame` and `Series` classes both have a `plot` method. However, the basic plots generated by pandas are not particularly pretty. While it's possible to manually use matplotlib commands to make pandas plots look better, we'll instead use a high level plotting library called Seaborn that will take care of most of this for us.\n",
    "\n",
    "As you learn to do data visualization, you may find the [pandas documentation](https://pandas.pydata.org/pandas-docs/stable/generated/pandas.DataFrame.plot.html) and [Seaborn documentation](https://seaborn.pydata.org/api.html) helpful!"
   ]
  },
  {
   "cell_type": "markdown",
   "metadata": {
    "nbgrader": {
     "grade": false,
     "grade_id": "plot-demo",
     "locked": true,
     "schema_version": 2,
     "solution": false
    }
   },
   "source": [
    "### 3.1 Plotting a Series\n",
    "Using the built-in plotting functionality of pandas, such as `plot` method of the `Series` class to generate a `barh` plot type,  display the value counts for `OFNS_DESC` visually as a barh chart."
   ]
  },
  {
   "cell_type": "code",
   "execution_count": null,
   "metadata": {
    "nbgrader": {
     "grade": false,
     "grade_id": "plot-demo1",
     "locked": true,
     "schema_version": 2,
     "solution": false
    },
    "scrolled": false
   },
   "outputs": [],
   "source": [
    "### BEGIN SOLUTION\n",
    "\n",
    "xlab = list(calls_by_Boro_and_offense.loc['BRONX']['CMPLNT_NUM'].sort_values(ascending=False))\n",
    "ylab = list(calls_by_Boro_and_offense.loc['BRONX']['CMPLNT_NUM'].sort_values(ascending=False).index)\n",
    "\n",
    "ofns = pd.DataFrame({'Crime Category': ylab, 'Number of Calls': xlab})\n",
    "ofnsplot = ofns.plot.barh(x='Crime Category', y='Number of Calls')\n",
    "ofnsplot.set_xlabel('Number of Calls')\n",
    "ofnsplot.set_title('Number of Calls By Crime Type');\n",
    "\n",
    "### END SOLUTION"
   ]
  },
  {
   "cell_type": "markdown",
   "metadata": {},
   "source": [
    "### 3.2 Getting a Better Plot\n",
    "The plot above can be messy as it plots all offenses. Plot only the offenses that has more than 10000 calls"
   ]
  },
  {
   "cell_type": "code",
   "execution_count": null,
   "metadata": {},
   "outputs": [],
   "source": [
    "### BEGIN SOLUTION\n",
    "ten = calls_by_Boro_and_offense[calls_by_Boro_and_offense['CMPLNT_NUM'] > 10000]\n",
    "\n",
    "xten = list(ten.loc['BRONX']['CMPLNT_NUM'].sort_values(ascending=False))\n",
    "yten = list(ten.loc['BRONX']['CMPLNT_NUM'].sort_values(ascending=False).index)\n",
    "\n",
    "ofnsten = pd.DataFrame({'Crime Category': yten, 'Number of Calls': xten})\n",
    "tenplot = ofnsten.plot.barh(x='Crime Category', y='Number of Calls')\n",
    "\n",
    "tenplot.set_xlabel(\"Number of Calls\")\n",
    "tenplot.set_title(\"Number of Calls By Crime Type\");\n",
    "### END SOLUTION"
   ]
  },
  {
   "cell_type": "markdown",
   "metadata": {
    "nbgrader": {
     "grade": false,
     "grade_id": "plot-demo2",
     "locked": true,
     "schema_version": 2,
     "solution": false
    }
   },
   "source": [
    "By contrast, the Seaborn library provides a specific function `countplot` built for plotting counts. It operates directly on the DataFrame itself i.e. there's no need to call `value_counts()` at all. This higher level approach makes it easier to work with. Use the y-label (\"Crime Category\"), x-label(\"Number of Calls\") and title_of_plot(\"Number of Calls By Crime Type\""
   ]
  },
  {
   "cell_type": "code",
   "execution_count": null,
   "metadata": {
    "nbgrader": {
     "grade": false,
     "grade_id": "plot-demo3",
     "locked": true,
     "schema_version": 2,
     "solution": false
    }
   },
   "outputs": [],
   "source": [
    "### BEGIN SOLUTION\n",
    "seabarplot = sns.countplot(y = 'OFNS_DESC', data=calls)\n",
    "\n",
    "seabarplot.set(xlabel='Number of Calls', ylabel='Crime Category', title='Number of Calls By Crime Type');\n",
    "### END SOLUTION"
   ]
  },
  {
   "cell_type": "markdown",
   "metadata": {
    "nbgrader": {
     "grade": false,
     "grade_id": "plot-demo4",
     "locked": true,
     "schema_version": 2,
     "solution": false
    }
   },
   "source": [
    "You may note that the ordering might be different for the seaborn plot (as compared to pandas plot). If we want the same ordering that we had in the pandas plot, we can use the order parameter of the `countplot` method. It takes a list of strings corresponding to the axis to be ordered. By passing the index of the `value_counts`, you can get the order you want."
   ]
  },
  {
   "cell_type": "code",
   "execution_count": null,
   "metadata": {
    "nbgrader": {
     "grade": false,
     "grade_id": "plot-demo5",
     "locked": true,
     "schema_version": 2,
     "solution": false
    }
   },
   "outputs": [],
   "source": [
    "### BEGIN SOLUTION\n",
    "orderplot = sns.countplot(y='OFNS_DESC', order=calls['OFNS_DESC'].value_counts().sort_values(ascending=True).index, data=calls)\n",
    "\n",
    "orderplot.set(xlabel='Number of Calls', ylabel='Crime Category', title='Number of Calls By Crime Type');\n",
    "### END SOLUTION"
   ]
  },
  {
   "cell_type": "markdown",
   "metadata": {
    "nbgrader": {
     "grade": false,
     "grade_id": "plot-demo6",
     "locked": true,
     "schema_version": 2,
     "solution": false
    }
   },
   "source": [
    "Now we have a pretty bar plot with the bars ordered by size. Though `seaborn` appears to provide a superior plot from a aesthetic point of view, the `pandas` plotting library is also good to understand. You'll get practice using both libraries in the following questions.\n",
    "\n",
    "## An Additional Note on Plotting in Jupyter Notebooks\n",
    "\n",
    "You may have noticed that many of our code cells involving plotting end with a semicolon (;). This prevents any extra output from the last line of the cell that we may not want to see. Try adding this to your own code in the following questions!"
   ]
  },
  {
   "cell_type": "markdown",
   "metadata": {
    "nbgrader": {
     "grade": false,
     "grade_id": "q3",
     "locked": true,
     "schema_version": 2,
     "solution": false
    }
   },
   "source": [
    "### 3.3 making more plots\n",
    "\n",
    "Now it is your turn to make some more plots using `pandas` and `seaborn`. Let's start by looking at the distribution of calls over days of the week.\n",
    "\n",
    "The CMPLNT_FR_DT field contains the date of the event. We would like to add a new column to the DataFrame that includes Day of the week (DAY_OF_WEEK) that indicates the day of the week. This can help us analyze the crimes on a specific day of the week. For example, we can answer questions such as \"what day of the week that a LARSON is likely to happen in NYC?\"\n",
    "\n",
    "\n",
    "Add a new column `DAY_OF_WEEK` into the `calls` dataframe that has the day string (eg. 'Sunday') for the corresponding value in CMPLNT_FR_DT. For example, if the first 3 values of `CMPLNT_FR_DT` are `['01/27/2006, '01/28/2006, '01/29/2006]`, then the first 3 values of the `DAY_OF_WEEK` column should be `[\"Friday\", \"Saturday\", \"Sunday\"]`.\n",
    "\n",
    "**Hint:** *Try using the [Series.map](https://pandas.pydata.org/pandas-docs/stable/generated/pandas.Series.map.html) function on `calls[\"OFNS_DESC\"]`.  Can you assign this to the new column `calls[\"DAY_OF_WEEK\"]`?*"
   ]
  },
  {
   "cell_type": "code",
   "execution_count": null,
   "metadata": {
    "nbgrader": {
     "grade": false,
     "grade_id": "q3a-answer",
     "locked": false,
     "schema_version": 2,
     "solution": true
    }
   },
   "outputs": [],
   "source": [
    "days = [\"Sunday\", \"Monday\", \"Tuesday\", \"Wednesday\", \"Thursday\", \"Friday\", \"Saturday\"]\n",
    "### BEGIN SOLUTION\n",
    "calls[\"DAY_OF_WEEK\"] = pd.to_datetime(calls[\"CMPLNT_FR_DT\"], errors='coerce').dt.day_name()\n",
    "calls[\"DAY_OF_WEEK\"][0:13]\n",
    "\n",
    "### END SOLUTION"
   ]
  },
  {
   "cell_type": "markdown",
   "metadata": {
    "nbgrader": {
     "grade": false,
     "grade_id": "q3b",
     "locked": true,
     "schema_version": 2,
     "solution": false
    }
   },
   "source": [
    "### 3.4 Seaborn plots\n",
    "\n",
    "Create a `seaborn` plot that shows the number of calls for each day of the week. You may want to use of the `rotation` argument in `ax.set_xticklabels`, which rotates the labels by 90 degrees."
   ]
  },
  {
   "cell_type": "code",
   "execution_count": null,
   "metadata": {
    "nbgrader": {
     "grade": false,
     "grade_id": "q3b-ex",
     "locked": true,
     "schema_version": 2,
     "solution": false
    }
   },
   "outputs": [],
   "source": [
    "### BEGIN SOLUTION\n",
    "seadaysplot = sns.countplot(x= 'DAY_OF_WEEK', order=days, data=calls)\n",
    "\n",
    "seadaysplot.set(ylabel='Number of Calls', title='Number of Calls For Each Day of the Week')\n",
    "seadaysplot.set_xticklabels(days, rotation=90);\n",
    "### END SOLUTION"
   ]
  },
  {
   "cell_type": "markdown",
   "metadata": {
    "nbgrader": {
     "grade": false,
     "grade_id": "q3b-instructions",
     "locked": true,
     "schema_version": 2,
     "solution": false
    }
   },
   "source": [
    "Now, let's make the same plot using `pandas`. Construct a vertical bar plot with the count of the number of calls (entries in the table) for each day of the week **ordered by the day of the week** (eg. `Sunday`, `Monday`, ...). Do not use `sns` for this plot. Be sure that your axes are labeled and that your plot is titled.\n",
    "\n",
    "**Hint:** *Given a series `s`, and an array `coolIndex` that has the same entries as in `s.index`, `s[coolIndex]` will return a copy of the series in the same order as `coolIndex`.*"
   ]
  },
  {
   "cell_type": "code",
   "execution_count": null,
   "metadata": {
    "nbgrader": {
     "grade": false,
     "grade_id": "q3b-answer",
     "locked": false,
     "schema_version": 2,
     "solution": true
    }
   },
   "outputs": [],
   "source": [
    "### BEGIN SOLUTION\n",
    "xdays = list(calls['DAY_OF_WEEK'].value_counts()[days])\n",
    "\n",
    "dayscalls = pd.DataFrame({'Number of Calls': xdays, 'Day': days,})\n",
    "daysplot = dayscalls.plot.bar(x='Day', y='Number of Calls')\n",
    "\n",
    "daysplot.set_xticklabels(days, rotation=90)\n",
    "daysplot.set_ylabel(\"Number of Calls\")\n",
    "daysplot.set_title(\"Number of Calls For Each Day of the Week\");\n",
    "\n",
    "### END SOLUTION"
   ]
  },
  {
   "cell_type": "markdown",
   "metadata": {
    "nbgrader": {
     "grade": false,
     "grade_id": "q4",
     "locked": true,
     "schema_version": 2,
     "solution": false
    }
   },
   "source": [
    "### 3.5 What Day of the Week is more calls?\n",
    "\n",
    "Is it true that weekdays generally have slightly more calls than Saturday or Sunday? What can you say about the difference?\n",
    "\n",
    "##### BEGIN SOLUTION\n",
    "Based on the plot, every other weekday has more calls that Sunday's, however Monday's calls are smaller than Saturday's, and Thursday's calls appears to be tied with Saturday's. The reason why Sunday has the lowest amount of calls is probably because it's the day before the weekdays where most people go to work. Also the reason why Saturday is higher than some days is because a lot of people probably party and end up creating incidents around that time. It also explains why Friday has the highest amount of calls.\n",
    "\n",
    "##### END SOLUTION\n",
    "\n",
    "We can break down into some particular types of events to see their distribution. For example, let's make a bar plot for the OFNS_DESC \"HARRASSMENT 2\". Which day is the peak for \"HARRASSMENT 2\"?\n",
    "\n",
    "This time, use `seaborn` to create a vertical bar plot of the number of total noise violations reported on each day of the week, again ordered by the days of the week starting with Sunday. Do not use `pandas` to plot.\n",
    "\n",
    "**Hint:** *If you're stuck, use the code for the seaborn plot in above question as a starting point.*"
   ]
  },
  {
   "cell_type": "code",
   "execution_count": null,
   "metadata": {
    "nbgrader": {
     "grade": false,
     "grade_id": "q4a-answer",
     "locked": false,
     "schema_version": 2,
     "solution": true
    }
   },
   "outputs": [],
   "source": [
    "### BEGIN SOLUTION\n",
    "harassplot = sns.countplot(x= 'DAY_OF_WEEK', order=days, data=calls[calls['OFNS_DESC'] == 'HARRASSMENT 2'])\n",
    "\n",
    "harassplot.set_xticklabels(days, rotation=90)\n",
    "harassplot.set(ylabel='Number of Calls', title='Number of Harrassment-2 Calls For Each Day of the Week');\n",
    "### END SOLUTION"
   ]
  },
  {
   "cell_type": "markdown",
   "metadata": {
    "nbgrader": {
     "grade": false,
     "grade_id": "q4b",
     "locked": true,
     "schema_version": 2,
     "solution": false
    }
   },
   "source": [
    "### 3.6 Distribution\n",
    "\n",
    "Do you see anything interesting about the distribution of HARRASSMENT 2 calls over a week? Type a short answer below.\n",
    "##### BEGIN SOLUTION\n",
    "The number of calls on the weekdays are bigger than the number of calls on the weekends. This is probably because harassment often occurs in work settings like an office, and most people often stay home on the weekends.\n",
    "##### END SOLUTION"
   ]
  },
  {
   "cell_type": "markdown",
   "metadata": {
    "nbgrader": {
     "grade": false,
     "grade_id": "q5",
     "locked": true,
     "schema_version": 2,
     "solution": false
    }
   },
   "source": [
    "### 3.7 More Plots\n",
    "\n",
    "Let's look at a similar distribution but for a crime we have much more calls data about. In the cell below, create the same plot as you did in previous questions, but now looking at instances of the OFNS_DESC \"BURGLARY\" (instead of \"HARRASSMENT 2\"). Use either `pandas` or `seaborn` plotting as you desire."
   ]
  },
  {
   "cell_type": "code",
   "execution_count": null,
   "metadata": {
    "nbgrader": {
     "grade": false,
     "grade_id": "q5-answer",
     "locked": false,
     "schema_version": 2,
     "solution": true
    },
    "scrolled": false
   },
   "outputs": [],
   "source": [
    "### BEGIN SOLUTION\n",
    "ofnsburgplot = sns.countplot(x= 'DAY_OF_WEEK', order=days, data=calls[calls['OFNS_DESC'] == 'BURGLARY'])\n",
    "\n",
    "ofnsburgplot.set_xticklabels(days, rotation=90)\n",
    "ofnsburgplot.set(ylabel='Number of Calls', title='Number of BURGLARY Calls For Each Day of the Week');\n",
    "### END SOLUTION\n",
    "\n"
   ]
  },
  {
   "cell_type": "markdown",
   "metadata": {
    "nbgrader": {
     "grade": false,
     "grade_id": "q6",
     "locked": true,
     "schema_version": 2,
     "solution": false
    }
   },
   "source": [
    "### 3.8 time of events\n",
    "\n",
    "Now let's look at the CMPLNT_TO_TM column which indicates the time for events. Since it contains hour and minute information, let's extract the hour info and create a new column named `Hour` in the `calls` dataframe. You should save the hour as an `int`. Then plot the frequency of each hour in the table (i.e., `value_counts()`) sorted by the hour of the day (i.e., `sort_index()`).\n",
    "\n",
    "You will want to look into how to use:\n",
    "\n",
    "* [Series.str.slice](https://pandas.pydata.org/pandas-docs/stable/generated/pandas.Series.str.slice.html#pandas.Series.str.slice) to select the substring.\n",
    "* [Series.astype](https://pandas.pydata.org/pandas-docs/stable/generated/pandas.Series.astype.html) to change the type.\n",
    "\n",
    "**Hint:** *The `str` helper member of a series can be used to grab substrings.  For example, `calls[\"CMPLNT_TO_TM\"].str.slice(3,5)` returns the minute of each hour of the `CMPLNT_TO_TM`.*"
   ]
  },
  {
   "cell_type": "code",
   "execution_count": null,
   "metadata": {
    "nbgrader": {
     "grade": false,
     "grade_id": "q6a-answer",
     "locked": false,
     "schema_version": 2,
     "solution": true
    },
    "tags": [
     "solution"
    ]
   },
   "outputs": [],
   "source": [
    "### BEGIN SOLUTION\n",
    "calls[\"Hour\"] = calls[\"CMPLNT_TO_TM\"].str.slice(0,2)\n",
    "calls['Hour'] = calls['Hour'].fillna(0)\n",
    "calls['Hour'] = calls['Hour'].astype('int64')\n",
    "calls['Hour'].value_counts().sort_index()\n",
    "\n",
    "\n",
    "xhour = list(calls['Hour'].value_counts().sort_index())\n",
    "hours = calls['Hour'].value_counts().sort_index().index\n",
    "\n",
    "hourcalls = pd.DataFrame({'Number of Calls': xhour, 'Hour': hours})\n",
    "hourplot = hourcalls.plot.bar(x='Hour', y='Number of Calls')\n",
    "\n",
    "hourplot.set_xlabel(\"Hour\")\n",
    "hourplot.set_ylabel(\"Number of Calls\")\n",
    "hourplot.set_title(\"Number of Calls Per Hour\");\n",
    "\n",
    "### END SOLUTION"
   ]
  },
  {
   "cell_type": "markdown",
   "metadata": {
    "nbgrader": {
     "grade": false,
     "grade_id": "pandas-fraud-plot",
     "locked": true,
     "schema_version": 2,
     "solution": false
    }
   },
   "source": [
    "Create a pandas bar plot showing the number of BURGLARY crimes committed at each hour of the day. Use the labels\n",
    "* ax.set_xlabel(\"Hour of the Day\")\n",
    "* ax.set_ylabel(\"Number of Calls\")\n",
    "* ax.set_title(\"Number of Calls Reporting Fraud For Each Day of the Week\");"
   ]
  },
  {
   "cell_type": "code",
   "execution_count": null,
   "metadata": {
    "nbgrader": {
     "grade": false,
     "grade_id": "pandas-fraud-plot-code",
     "locked": true,
     "schema_version": 2,
     "solution": false
    }
   },
   "outputs": [],
   "source": [
    "### BEGIN SOLUTION\n",
    "burglary = calls[calls['OFNS_DESC'] == 'BURGLARY']\n",
    "\n",
    "xburglary = list(burglary['Hour'].value_counts().sort_index())\n",
    "\n",
    "burglarycalls = pd.DataFrame({'Number of Calls': xburglary, 'Hour': hours})\n",
    "burghourplot = burglarycalls.plot.bar(x='Hour', y='Number of Calls')\n",
    "\n",
    "burghourplot.set_xlabel(\"Hour of the Day\")\n",
    "burghourplot.set_ylabel(\"Number of Calls\")\n",
    "burghourplot.set_title(\"Number of Calls Reporting Fraud For Each Day of the Week\");\n",
    "### END SOLUTION"
   ]
  },
  {
   "cell_type": "markdown",
   "metadata": {
    "nbgrader": {
     "grade": false,
     "grade_id": "q6b",
     "locked": true,
     "schema_version": 2,
     "solution": false
    }
   },
   "source": [
    "### 3.9 More plots\n",
    "\n",
    "In the cell below, create a seaborn plot of the same data. Again, make sure you provide axes labels and a title for your plot."
   ]
  },
  {
   "cell_type": "code",
   "execution_count": null,
   "metadata": {
    "nbgrader": {
     "grade": false,
     "grade_id": "q6b-answer",
     "locked": false,
     "schema_version": 2,
     "solution": true
    }
   },
   "outputs": [],
   "source": [
    "### BEGIN SOLUTION\n",
    "burgplot = sns.countplot(x= 'Hour',  data=calls[calls['OFNS_DESC'] == 'BURGLARY'])\n",
    "burgplot.set(xlabel='Hour of the Day', ylabel='Number of Calls', title='Number of Calls Reporting Fraud For Each Day of the Week');\n",
    "\n",
    "### END SOLUTION"
   ]
  },
  {
   "cell_type": "markdown",
   "metadata": {
    "nbgrader": {
     "grade": false,
     "grade_id": "q6c",
     "locked": true,
     "schema_version": 2,
     "solution": false
    }
   },
   "source": [
    "### 3.10 Spike in burglary?\n",
    "\n",
    "According to your plots, is there a spike in calls reporting BURGLARY at any particular time? If so, Do you trust that this spike is legitimate, or could there be an issue with our data? Explain your reasoning in 1-2 sentences below.\n",
    "\n",
    "#### BEGIN SOLUTION\n",
    "Our plots show a spike at hour 0 and hour 7. Hour 0 is illegitimate since its number of calls also include all the NaN values filled in by zeroes. Hour 7 on the other hand, is a legitimate spike in the data. The reason why hour 7 seems reasonable is that most burglars often commit robberies in the middle of the night, like around 2:00 AM (Hour 2). So hour 7, or 7:00 AM is the appropriate time for when a person wakes up, sees that they got robbed, and calls the police.\n",
    "\n",
    "#### END SOLUTION"
   ]
  },
  {
   "cell_type": "markdown",
   "metadata": {
    "nbgrader": {
     "grade": false,
     "grade_id": "q7",
     "locked": true,
     "schema_version": 2,
     "solution": false
    }
   },
   "source": [
    "In the cell below, we generate a boxplot which examines the hour of day of each crime broken down by the `OFNS_DESC` value.  To construct this plot we used the [DataFrame.boxplot](https://pandas.pydata.org/pandas-docs/stable/generated/pandas.DataFrame.boxplot.html) documentation."
   ]
  },
  {
   "cell_type": "code",
   "execution_count": null,
   "metadata": {
    "nbgrader": {
     "grade": false,
     "grade_id": "q7-pandas-boxplot",
     "locked": true,
     "schema_version": 2,
     "solution": false
    },
    "tags": [
     "student"
    ]
   },
   "outputs": [],
   "source": [
    "calls.boxplot(column=\"Hour\", by='OFNS_DESC', rot=90);"
   ]
  },
  {
   "cell_type": "markdown",
   "metadata": {
    "nbgrader": {
     "grade": false,
     "grade_id": "q7-instructions",
     "locked": true,
     "schema_version": 2,
     "solution": false
    }
   },
   "source": [
    "While the pandas boxplot is informative, we can use seaborn to create a more visually-appealing plot. Using seaborn, regenerate a better box plot. See either the textbook (https://www.textbook.ds100.org/ch/06/viz_quantitative.html) or the [seaborn boxplot documentation](https://seaborn.pydata.org/generated/seaborn.boxplot.html).\n",
    "\n",
    "Looking at your plot, which crime type appears to have the largest interquartile range? Put your results into `answer` as a string."
   ]
  },
  {
   "cell_type": "code",
   "execution_count": null,
   "metadata": {
    "nbgrader": {
     "grade": false,
     "grade_id": "q7-answer",
     "locked": false,
     "schema_version": 2,
     "solution": true
    }
   },
   "outputs": [],
   "source": [
    "# Todo: Make a boxplot with seaborn\n",
    "### BEGIN SOLUTION\n",
    "ax = sns.boxplot(x='OFNS_DESC', y='Hour', data=calls)\n",
    "ax.set_xticklabels(ax.get_xticklabels(),rotation=90)\n",
    "ax.set_title(\"Distributions of Calls Over Hours in a Day, Grouped by Crime\");\n",
    "answer = \"PROSTITUTION & RELATED OFFENSES\"\n",
    "### END SOLUTION"
   ]
  },
  {
   "cell_type": "markdown",
   "metadata": {},
   "source": [
    "### 3.11a Explore Suspect and Victim Age Relationships\n",
    "In this activity we explore relations between SUSP_AGE_GROUP and VIC_AGE_GROUP\n",
    "1. create a matrix of where rows are SUSP_AGE_GROUPS and Columns are VIC_AGE_GROUPs\n",
    "2. Fill in the matrix with all probabilities (eg. \"what is the probability that <18 susp_group target <18 victim_group)"
   ]
  },
  {
   "cell_type": "code",
   "execution_count": null,
   "metadata": {},
   "outputs": [],
   "source": [
    "### BEGIN SOLUTION\n",
    "sus = calls[(calls['SUSP_AGE_GROUP'] == '25-44') | (calls['SUSP_AGE_GROUP'] == '<18') | (calls['SUSP_AGE_GROUP'] == '45-64') |\n",
    "     (calls['SUSP_AGE_GROUP'] == '18-24') | (calls['SUSP_AGE_GROUP'] == '65+')]\n",
    "\n",
    "vic = sus[(sus['VIC_AGE_GROUP'] == '25-44') | (sus['VIC_AGE_GROUP'] == '<18') | (sus['VIC_AGE_GROUP'] == '45-64') |\n",
    "     (sus['VIC_AGE_GROUP'] == '18-24') | (sus['VIC_AGE_GROUP'] == '65+')]\n",
    "\n",
    "viccount = pd.crosstab(vic.SUSP_AGE_GROUP, vic.VIC_AGE_GROUP) #count matrix\n",
    "\n",
    "vicprobs = pd.crosstab(vic.SUSP_AGE_GROUP, vic.VIC_AGE_GROUP) / len(vic) #frequency matrix\n",
    "vicprobs\n",
    "\n",
    "### END SOLUTION"
   ]
  },
  {
   "cell_type": "markdown",
   "metadata": {},
   "source": [
    "### 3.11b Explore Suspect and Victim Sex Relationships\n",
    "In this activity we explore relations between SUSP_SEX and VIC_SEX \n",
    "1. create a matrix of where rows are SUSP_SEX and Columns are VIC_SEX\n",
    "2. Fill in the matrix with all probabilities (eg. \"what is the probability that Males target other Males?\")"
   ]
  },
  {
   "cell_type": "code",
   "execution_count": null,
   "metadata": {},
   "outputs": [],
   "source": [
    "### BEGIN SOLUTION\n",
    "susp = calls[(calls['SUSP_SEX'] == 'M') | (calls['SUSP_SEX'] == 'F')]\n",
    "\n",
    "vict = susp[(susp['VIC_SEX'] == 'M') | (susp['VIC_SEX'] == 'F')]\n",
    "\n",
    "victcount = pd.crosstab(vict.SUSP_SEX, vict.VIC_SEX)\n",
    "\n",
    "victprobs = pd.crosstab(vict.SUSP_SEX, vict.VIC_SEX) / len(vict)\n",
    "victprobs\n",
    "### END SOLUTION"
   ]
  },
  {
   "cell_type": "markdown",
   "metadata": {},
   "source": [
    "### 3.11c Observations \n",
    "Based on what was calculated in 3.11a and 3.11b, state at least important observations.\n",
    "##### BEGIN SOLUTION\n",
    "In the matrix for 3.11a, we can make the assumption that the most frequent calls are incidents involving suspects aged 25-44 and vicitims aged 25-44. We can also infer that adults aged <18 and 65+ are the least likely to become suspects or victims in a call. \n",
    "\n",
    "As for the matrix in 3.11b, we can see that incidents involving a male suspect and female victim are the most frequent in the number of calls. We can also add that males are more likely to be suspects and victims than females.\n",
    "##### END SOLUTION"
   ]
  },
  {
   "cell_type": "markdown",
   "metadata": {},
   "source": [
    "### 3.12 - Visualization of crimes on a Map of NYC\n",
    "Finally we attempt to visualize the crimes committed in NYC on a Map. For this activity, use all data, not just the First set,  NYPD_Complaint_Data_Historic_1. \n",
    "First we need to install some mapping software. RSun the cell below to install folium package for mapping software."
   ]
  },
  {
   "cell_type": "code",
   "execution_count": null,
   "metadata": {},
   "outputs": [],
   "source": [
    "!pip install --upgrade folium"
   ]
  },
  {
   "cell_type": "code",
   "execution_count": null,
   "metadata": {},
   "outputs": [],
   "source": [
    "### Plot the maps for BURGLARY in NYC\n",
    "### if it takes too much time or map does not show up, try plotting a subset of the data set of for a specific crime\n",
    "\n",
    "### BEGIN SOLUTION\n",
    "import folium\n",
    "map = folium.Map(location=[40.693943, -73.985880], default_zoom_start=15)\n",
    "\n",
    "nyburglary = calls[calls['OFNS_DESC'] == 'BURGLARY']\n",
    "\n",
    "locations = nyburglary[['Latitude', 'Longitude']].dropna()\n",
    "locationlist = locations.values.tolist()\n",
    "\n",
    "for point in range(0, 20):\n",
    "    folium.Marker(locationlist[point]).add_to(map)\n",
    "    \n",
    "map\n",
    "\n",
    "\n",
    "### END SOLUTION"
   ]
  },
  {
   "cell_type": "markdown",
   "metadata": {},
   "source": [
    " ## Congratulations !!!\n",
    "\n",
    "<div class=\"alert alert-block alert-info\">\n",
    "<h2>Submission Instructions</h2> \n",
    "<b> Output:</b> Please **remove all output** from your notebook prior to submission<br>\n",
    "<b> File Name:</b> Please name the file as your_section_your_netID_Lab3.ipynb (eg. 01_adg133_Lab3.ipynb<br>\n",
    "<b> Submit To: </b> Canvas &rarr; Assignments &rarr; Lab3 <br>\n",
    "<b>Warning:</b> Failure to follow directions may result in loss of points.<br>\n",
    "</div>"
   ]
  },
  {
   "cell_type": "markdown",
   "metadata": {
    "nbgrader": {
     "grade": false,
     "grade_id": "finish",
     "locked": true,
     "schema_version": 2,
     "solution": false
    }
   },
   "source": [
    "@2022 A.D. Gunawardena. Many people contributed to this lab including TA Liqin Long (now at Google). Much credits go to Josh Hug, and Berkeley Data Science Group for their contributions to the original version. Please DO NOT share this lab and/or post them on public sites."
   ]
  }
 ],
 "metadata": {
  "celltoolbar": "Create Assignment",
  "kernelspec": {
   "display_name": "Python 3",
   "language": "python",
   "name": "python3"
  },
  "language_info": {
   "codemirror_mode": {
    "name": "ipython",
    "version": 3
   },
   "file_extension": ".py",
   "mimetype": "text/x-python",
   "name": "python",
   "nbconvert_exporter": "python",
   "pygments_lexer": "ipython3",
   "version": "3.8.5"
  }
 },
 "nbformat": 4,
 "nbformat_minor": 2
}
